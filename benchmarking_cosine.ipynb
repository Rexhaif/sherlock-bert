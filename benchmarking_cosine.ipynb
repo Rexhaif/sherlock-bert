{
 "cells": [
  {
   "cell_type": "code",
   "execution_count": 1,
   "metadata": {},
   "outputs": [],
   "source": [
    "import torch\n",
    "import numpy as np\n",
    "import numba as nb\n",
    "import h5py as h5\n",
    "import os\n",
    "import psutil"
   ]
  },
  {
   "cell_type": "code",
   "execution_count": 2,
   "metadata": {},
   "outputs": [],
   "source": [
    "supermatrix = np.random.random_sample(size=(6000000, 1024)).astype(np.float16, copy=False)"
   ]
  },
  {
   "cell_type": "code",
   "execution_count": 3,
   "metadata": {},
   "outputs": [],
   "source": [
    "def get_ram_usage():\n",
    "    pid = os.getpid()\n",
    "    py = psutil.Process(pid)\n",
    "    memory_usage = py.memory_info()[0]/2.**30  # memory use in GB...I think\n",
    "    return memory_usage"
   ]
  },
  {
   "cell_type": "code",
   "execution_count": 4,
   "metadata": {},
   "outputs": [
    {
     "data": {
      "text/plain": [
       "11.65719223022461"
      ]
     },
     "execution_count": 4,
     "metadata": {},
     "output_type": "execute_result"
    }
   ],
   "source": [
    "get_ram_usage()"
   ]
  },
  {
   "cell_type": "code",
   "execution_count": 25,
   "metadata": {},
   "outputs": [],
   "source": [
    "with h5.File(\"supermatrix.h5.gzip\", 'w') as f:\n",
    "    f.create_dataset(\"default\", data=supermatrix, compression='gzip', shuffle=True, sca)"
   ]
  },
  {
   "cell_type": "code",
   "execution_count": 26,
   "metadata": {},
   "outputs": [
    {
     "data": {
      "text/plain": [
       "11.877471923828125"
      ]
     },
     "execution_count": 26,
     "metadata": {},
     "output_type": "execute_result"
    }
   ],
   "source": [
    "get_ram_usage()"
   ]
  },
  {
   "cell_type": "code",
   "execution_count": 27,
   "metadata": {},
   "outputs": [
    {
     "name": "stdout",
     "output_type": "stream",
     "text": [
      "total 19350M\n",
      "    1M drwxr-xr-x  5 root root     1M Nov 23 16:35 .\n",
      "    1M -rw-r--r--  1 root root     1M Nov 23 16:35 benchmarking_cosine.ipynb\n",
      "10070M -rw-r--r--  1 root root 10070M Nov 23 16:34 supermatrix.h5.szip\n",
      " 9281M -rw-r--r--  1 root root  9281M Nov 23 16:18 supermatrix.h5.gzip\n",
      "    1M drwxr-xr-x  2 root root     1M Nov 23 15:35 .ipynb_checkpoints\n",
      "    1M drwxr-xr-x  3 root root     1M Nov 23 15:35 transformers-search\n",
      "    1M drwxr-xr-x 13 root root     1M Nov 22 17:19 ..\n",
      "    1M drwxr-xr-x  8 root root     1M Nov 18 15:02 .git\n",
      "    1M -rw-r--r--  1 root root     1M Nov 18 15:02 .gitignore\n",
      "    1M -rw-r--r--  1 root root     1M Nov 18 15:02 LICENSE\n",
      "    1M -rw-r--r--  1 root root     1M Nov 18 15:02 README.md\n",
      "    1M -rw-r--r--  1 root root     1M Nov 18 15:02 requirements.txt\n",
      "    1M -rw-r--r--  1 root root     1M Nov 18 15:02 setup.py\n"
     ]
    }
   ],
   "source": [
    "!ls -lats --block-size=M"
   ]
  },
  {
   "cell_type": "code",
   "execution_count": 23,
   "metadata": {},
   "outputs": [],
   "source": [
    "!rm -rf ./supermatrix.h5.lzf"
   ]
  },
  {
   "cell_type": "code",
   "execution_count": 5,
   "metadata": {},
   "outputs": [],
   "source": [
    "supermatrix = torch.from_numpy(supermatrix)"
   ]
  },
  {
   "cell_type": "code",
   "execution_count": 6,
   "metadata": {},
   "outputs": [
    {
     "data": {
      "text/plain": [
       "11.62741470336914"
      ]
     },
     "execution_count": 6,
     "metadata": {},
     "output_type": "execute_result"
    }
   ],
   "source": [
    "get_ram_usage()"
   ]
  },
  {
   "cell_type": "code",
   "execution_count": 8,
   "metadata": {},
   "outputs": [],
   "source": [
    "supermatrix = supermatrix.numpy()"
   ]
  },
  {
   "cell_type": "code",
   "execution_count": 9,
   "metadata": {},
   "outputs": [
    {
     "data": {
      "text/plain": [
       "11.66988754272461"
      ]
     },
     "execution_count": 9,
     "metadata": {},
     "output_type": "execute_result"
    }
   ],
   "source": [
    "get_ram_usage()"
   ]
  },
  {
   "cell_type": "code",
   "execution_count": 10,
   "metadata": {},
   "outputs": [],
   "source": [
    "np.save(\"supermatrix.npy\", supermatrix)"
   ]
  },
  {
   "cell_type": "code",
   "execution_count": 13,
   "metadata": {},
   "outputs": [
    {
     "name": "stdout",
     "output_type": "stream",
     "text": [
      "^C\n"
     ]
    }
   ],
   "source": [
    "!gzip --best --keep ./supermatrix.h5"
   ]
  },
  {
   "cell_type": "code",
   "execution_count": null,
   "metadata": {},
   "outputs": [],
   "source": []
  }
 ],
 "metadata": {
  "kernelspec": {
   "display_name": "Python 3",
   "language": "python",
   "name": "python3"
  },
  "language_info": {
   "codemirror_mode": {
    "name": "ipython",
    "version": 3
   },
   "file_extension": ".py",
   "mimetype": "text/x-python",
   "name": "python",
   "nbconvert_exporter": "python",
   "pygments_lexer": "ipython3",
   "version": "3.6.8"
  }
 },
 "nbformat": 4,
 "nbformat_minor": 4
}
